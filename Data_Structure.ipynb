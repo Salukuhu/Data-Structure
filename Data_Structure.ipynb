{
  "nbformat": 4,
  "nbformat_minor": 0,
  "metadata": {
    "colab": {
      "provenance": [],
      "authorship_tag": "ABX9TyO2xLKhKzcop+bDvj9Q7cnB",
      "include_colab_link": true
    },
    "kernelspec": {
      "name": "python3",
      "display_name": "Python 3"
    },
    "language_info": {
      "name": "python"
    }
  },
  "cells": [
    {
      "cell_type": "markdown",
      "metadata": {
        "id": "view-in-github",
        "colab_type": "text"
      },
      "source": [
        "<a href=\"https://colab.research.google.com/github/Salukuhu/Data-Structure/blob/main/Data_Structure.ipynb\" target=\"_parent\"><img src=\"https://colab.research.google.com/assets/colab-badge.svg\" alt=\"Open In Colab\"/></a>"
      ]
    },
    {
      "cell_type": "markdown",
      "source": [
        "Q1)Data structures are ways of organizing and storing data efficiently so that it can be accessed and manipulated easily. They are important because they allow efficient searching, sorting, insertion, and deletion operations, improving the performance of programs.\n",
        "\n",
        "Common data structures in Python:\n",
        "\n",
        "Lists (ordered, mutable collections)\n",
        "\n",
        "Tuples (ordered, immutable collections)\n",
        "\n",
        "Dictionaries (key-value pairs, fast lookups)\n",
        "\n",
        "Sets (unordered, unique elements)\n",
        "\n"
      ],
      "metadata": {
        "id": "EZGI66x7UrgO"
      }
    },
    {
      "cell_type": "markdown",
      "source": [
        "Q2)Mutable data types can be changed after creation. Example: Lists\n",
        "\n",
        "Immutable data types cannot be changed after creation. Example: Tuples"
      ],
      "metadata": {
        "id": "g6gbDrtHUvaS"
      }
    },
    {
      "cell_type": "markdown",
      "source": [
        "Q3) The main difference between lists and tuples in Python lies in their mutability: lists are mutable (changeable), while tuples are immutable (unchangeable)."
      ],
      "metadata": {
        "id": "ulTeyP1xU3Qn"
      }
    },
    {
      "cell_type": "markdown",
      "source": [
        "Q4) Dictionaries store data in key-value pairs using a hash table. Each key is hashed, and its corresponding value is stored in a memory location, allowing fast lookups (O(1) time complexity) Dictionaries are used to store data values in key:value pairs. A dictionary is a collection which is ordered*, changeable and do not allow duplicates."
      ],
      "metadata": {
        "id": "vgSvnHnmVCN7"
      }
    },
    {
      "cell_type": "markdown",
      "source": [
        "Q5) Sets store unique values, so they automatically remove duplicates.\n",
        "\n",
        "Faster lookups (O(1)) compared to lists (O(n)).\n",
        "Because sets cannot have multiple occurrences of the same element, it makes sets highly useful to efficiently remove duplicate values from a list or tuple and to perform common math operations like unions and intersections."
      ],
      "metadata": {
        "id": "n48Xf5LkVN8X"
      }
    },
    {
      "cell_type": "markdown",
      "source": [
        "Q6) A string is an immutable sequence of characters, while a list is mutable and can hold different data types.a string is a sequence of characters enclosed in quotes (single or double), while a list is an ordered collection of items (which can be of different data types) enclosed in square brackets. Strings are immutable, meaning they cannot be changed, while lists are mutable, allowing modification after creation."
      ],
      "metadata": {
        "id": "-8FJ088yVmOw"
      }
    },
    {
      "cell_type": "markdown",
      "source": [
        "Q7) Tuples ensure data integrity in Python through **immutability**, preventing accidental changes. Their **hashability** allows usage as dictionary keys and set elements for reliable lookups. By maintaining a **consistent structure**, tuples help avoid unintended alterations in functions and data processing. They serve as **read-only storage** for critical datasets while offering **better memory efficiency and performance** than lists, reinforcing their role in stable data management."
      ],
      "metadata": {
        "id": "mz-mk-WvpuHz"
      }
    },
    {
      "cell_type": "markdown",
      "source": [
        "Q8)A hash table is a data structure that stores key-value pairs and enables fast lookups, insertions, and deletions by using a hash function to compute an index for each key.\n",
        "\n",
        "Python dictionaries use hash tables for efficient key-value storage, allowing average O(1) time complexity for lookups and modifications. Collisions are managed through methods like open addressing or chaining."
      ],
      "metadata": {
        "id": "khGkVKT8p06W"
      }
    },
    {
      "cell_type": "markdown",
      "source": [
        "Q9)Yes, lists in Python can contain elements of different data types because they are heterogeneous data structures. A single list can store integers, floats, strings, booleans, other lists, tuples, dictionaries, and even functions."
      ],
      "metadata": {
        "id": "NGtmQVU6qV3p"
      }
    },
    {
      "cell_type": "markdown",
      "source": [
        "Q10)Strings in Python are **immutable**, meaning they can't be changed after creation. This allows for **memory efficiency**, makes them **hashable** for use in dictionaries and sets, and enhances **data integrity**. Modifications create a **new string object** instead of altering the original."
      ],
      "metadata": {
        "id": "yXIe4PhUqfDe"
      }
    },
    {
      "cell_type": "markdown",
      "source": [
        "Q11)Dictionaries provide **faster lookups (O(1) average time complexity)** than lists (O(n) worst case) through **hash tables**. They allow **direct access** to values using keys, support **dynamic resizing**, and are more efficient for storing **associative data**."
      ],
      "metadata": {
        "id": "t8iIAFDoq1ex"
      }
    },
    {
      "cell_type": "markdown",
      "source": [
        "Q12)A tuple is preferable when data should not be modified after creation, ensuring data integrity and efficiency. For example, storing geographic coordinates (latitude, longitude). Since these values should not change, using a tuple prevents accidental modifications."
      ],
      "metadata": {
        "id": "v-9zE1DtrOIx"
      }
    },
    {
      "cell_type": "markdown",
      "source": [
        "Q13)Sets in Python automatically eliminate duplicate values, ensuring that each element appears only once. When adding elements to a set, Python checks for existing values using a hash function, preventing duplicates."
      ],
      "metadata": {
        "id": "h-dzTAafrcdN"
      }
    },
    {
      "cell_type": "markdown",
      "source": [
        "Q14)Lists: The in keyword performs a linear search (O(n)), checking each element sequentially.\n",
        "\n",
        "Dictionaries: The in keyword checks for the existence of a key (not values) using hashing (O(1) average time complexity)."
      ],
      "metadata": {
        "id": "td8-7LE1riCW"
      }
    },
    {
      "cell_type": "markdown",
      "source": [
        "Q15) No, tuples are immutable, meaning their elements cannot be changed after creation. This is because tuples are stored in a fixed memory location, making them hashable and allowing their use as dictionary keys or set elements."
      ],
      "metadata": {
        "id": "V2XUFTVTrue-"
      }
    },
    {
      "cell_type": "markdown",
      "source": [
        "Q16)A nested dictionary is a dictionary inside another dictionary, useful for representing hierarchical data like employee records, configurations, or JSON data.\n",
        "\n",
        "Example: Storing details of multiple employees:\n",
        "employees = {\n",
        "\n",
        "    \"Employee1\": {\"name\": \"Saloni\", \"age\": 21, \"department\": \"HR\"},\n",
        "\n",
        "    \"Employee2\": {\"name\": \"Sai\", \"age\": 13, \"department\": \"IT\"}\n",
        "}\n",
        "\n",
        "print(employees[\"Employee2\"][\"name\"])  # Output: Sai\n"
      ],
      "metadata": {
        "id": "LPYtHjFtrx5a"
      }
    },
    {
      "cell_type": "markdown",
      "source": [
        "Q17)Accessing elements in a dictionary typically has an average time complexity of O(1) because of hashing. However, in the worst-case scenario (due to hash collisions), it can increase to O(n)."
      ],
      "metadata": {
        "id": "k93KxS1XsPsL"
      }
    },
    {
      "cell_type": "markdown",
      "source": [
        "Q18)Lists are preferred over Dictionaries when:\n",
        "\n",
        "1. Order matters, as they are inherently indexed.\n",
        "2. Sequential processing is needed for iteration.\n",
        "3. Data does not require key-value relationships.\n",
        "4. Memory efficiency is a concern, since lists typically use less overhead than dictionaries."
      ],
      "metadata": {
        "id": "Ggcl8OvmscYC"
      }
    },
    {
      "cell_type": "markdown",
      "source": [
        "Q19)Historically, dictionaries were unordered because they used hash tables for fast lookups. However, starting from Python 3.7, dictionaries maintain the order of insertion. Despite this order preservation, dictionaries are still optimized for key-based access rather than for accessing elements sequentially. Unlike lists, where elements can be retrieved by their position using indexing, dictionaries require you to look up elements using their keys."
      ],
      "metadata": {
        "id": "F68mEa1psqhV"
      }
    },
    {
      "cell_type": "markdown",
      "source": [
        "Q20)Lists: Retrieval is done by index (O(1) for direct access, O(n) for searching by value).\n",
        "\n",
        "Dictionaries: Retrieval is done by key (O(1) average time complexity due to hashing)."
      ],
      "metadata": {
        "id": "0RYdryGLs51N"
      }
    },
    {
      "cell_type": "markdown",
      "source": [
        "PRACTICAL QUESTIONS"
      ],
      "metadata": {
        "id": "w5sXj5Bss-sH"
      }
    },
    {
      "cell_type": "markdown",
      "source": [
        "Q1)"
      ],
      "metadata": {
        "id": "rsVYCVQYtFJf"
      }
    },
    {
      "cell_type": "code",
      "source": [
        "name = \"Saloni\"\n",
        "print(name)"
      ],
      "metadata": {
        "colab": {
          "base_uri": "https://localhost:8080/"
        },
        "id": "ZfCHx0oOtGPS",
        "outputId": "b4da0b49-28d2-4838-ccd2-ef42e28534a9"
      },
      "execution_count": 1,
      "outputs": [
        {
          "output_type": "stream",
          "name": "stdout",
          "text": [
            "Saloni\n"
          ]
        }
      ]
    },
    {
      "cell_type": "markdown",
      "source": [
        "Q2)"
      ],
      "metadata": {
        "id": "E_XPdRzPtUfE"
      }
    },
    {
      "cell_type": "code",
      "source": [
        "s = \"Hello World\"\n",
        "print(s)\n",
        "print(len(s))"
      ],
      "metadata": {
        "colab": {
          "base_uri": "https://localhost:8080/"
        },
        "id": "DyqVjPxltYHD",
        "outputId": "24745382-9f9e-4bea-bd1f-87b7059473b5"
      },
      "execution_count": 2,
      "outputs": [
        {
          "output_type": "stream",
          "name": "stdout",
          "text": [
            "Hello World\n",
            "11\n"
          ]
        }
      ]
    },
    {
      "cell_type": "markdown",
      "source": [
        "Q3)"
      ],
      "metadata": {
        "id": "cQmzomDGtex2"
      }
    },
    {
      "cell_type": "code",
      "source": [
        "text = \"Python Programming\"\n",
        "sliced_text = text[:3]\n",
        "print(sliced_text)"
      ],
      "metadata": {
        "colab": {
          "base_uri": "https://localhost:8080/"
        },
        "id": "CXeDVHEGtf7z",
        "outputId": "4e2edc13-dd93-4f3c-c455-0a8f09fcd047"
      },
      "execution_count": 3,
      "outputs": [
        {
          "output_type": "stream",
          "name": "stdout",
          "text": [
            "Pyt\n"
          ]
        }
      ]
    },
    {
      "cell_type": "markdown",
      "source": [
        "Q4)"
      ],
      "metadata": {
        "id": "OAPUpeGYt3lV"
      }
    },
    {
      "cell_type": "code",
      "source": [
        "s = \"hello\"\n",
        "print(s.upper())"
      ],
      "metadata": {
        "colab": {
          "base_uri": "https://localhost:8080/"
        },
        "id": "EXnCIEDnt4xY",
        "outputId": "e5b352ab-a2cb-4d68-a67e-312139d5f3da"
      },
      "execution_count": 6,
      "outputs": [
        {
          "output_type": "stream",
          "name": "stdout",
          "text": [
            "HELLO\n"
          ]
        }
      ]
    },
    {
      "cell_type": "markdown",
      "source": [
        "Q5)"
      ],
      "metadata": {
        "id": "JcGRpBUBuF3q"
      }
    },
    {
      "cell_type": "code",
      "source": [
        "text = \"I like apple\"\n",
        "print(text.replace(\"apple\", \"orange\"))"
      ],
      "metadata": {
        "colab": {
          "base_uri": "https://localhost:8080/"
        },
        "id": "Z9BVT752uHQh",
        "outputId": "23e9a5df-bb36-4647-9de6-e128960566b8"
      },
      "execution_count": 7,
      "outputs": [
        {
          "output_type": "stream",
          "name": "stdout",
          "text": [
            "I like orange\n"
          ]
        }
      ]
    },
    {
      "cell_type": "markdown",
      "source": [
        "Q6)"
      ],
      "metadata": {
        "id": "q6rzQTiWuazx"
      }
    },
    {
      "cell_type": "code",
      "source": [
        "numbers = [1, 2, 3, 4, 5]\n",
        "print(numbers)"
      ],
      "metadata": {
        "colab": {
          "base_uri": "https://localhost:8080/"
        },
        "id": "ndgaKYjcucCn",
        "outputId": "72ee74a4-a5c1-482b-adc5-f6bbd7a735d9"
      },
      "execution_count": 8,
      "outputs": [
        {
          "output_type": "stream",
          "name": "stdout",
          "text": [
            "[1, 2, 3, 4, 5]\n"
          ]
        }
      ]
    },
    {
      "cell_type": "markdown",
      "source": [
        "Q7)"
      ],
      "metadata": {
        "id": "v_hEBY7suwMq"
      }
    },
    {
      "cell_type": "code",
      "source": [
        "num = [1, 2, 3, 4]\n",
        "num.append(10)\n",
        "print(num)"
      ],
      "metadata": {
        "colab": {
          "base_uri": "https://localhost:8080/"
        },
        "id": "jwwkBJcCuxYw",
        "outputId": "e4a2276e-38bb-4bab-ab81-db4c64d3e526"
      },
      "execution_count": 10,
      "outputs": [
        {
          "output_type": "stream",
          "name": "stdout",
          "text": [
            "[1, 2, 3, 4, 10]\n"
          ]
        }
      ]
    },
    {
      "cell_type": "markdown",
      "source": [
        "Q8)"
      ],
      "metadata": {
        "id": "VFEUsxDCvbTE"
      }
    },
    {
      "cell_type": "code",
      "source": [
        "no = [1, 2, 3, 4, 5]\n",
        "no.remove(3)\n",
        "print(no)"
      ],
      "metadata": {
        "colab": {
          "base_uri": "https://localhost:8080/"
        },
        "id": "Ogr5v1xEvMi6",
        "outputId": "93d04dfb-6a49-4d64-fd9d-ae7cc8c4c497"
      },
      "execution_count": 11,
      "outputs": [
        {
          "output_type": "stream",
          "name": "stdout",
          "text": [
            "[1, 2, 4, 5]\n"
          ]
        }
      ]
    },
    {
      "cell_type": "markdown",
      "source": [
        "Q9)"
      ],
      "metadata": {
        "id": "rbD4a9UcvV45"
      }
    },
    {
      "cell_type": "code",
      "source": [
        "alph = [\"a\", \"b\", \"c\", \"d\"]\n",
        "print(alph[1])"
      ],
      "metadata": {
        "colab": {
          "base_uri": "https://localhost:8080/"
        },
        "id": "eTTZkOKuveDc",
        "outputId": "55045cc3-a24a-451e-9177-1e71ce5b6c37"
      },
      "execution_count": 14,
      "outputs": [
        {
          "output_type": "stream",
          "name": "stdout",
          "text": [
            "b\n"
          ]
        }
      ]
    },
    {
      "cell_type": "markdown",
      "source": [
        "Q10)"
      ],
      "metadata": {
        "id": "HVD8VyY4vxEL"
      }
    },
    {
      "cell_type": "code",
      "source": [
        "numb = [10, 20, 30, 40, 50]\n",
        "numb.reverse()\n",
        "print(numb)"
      ],
      "metadata": {
        "colab": {
          "base_uri": "https://localhost:8080/"
        },
        "id": "WrfgAzuIv4jN",
        "outputId": "8b7c174a-a55d-4b60-8c7a-143eb7f7bcb0"
      },
      "execution_count": 16,
      "outputs": [
        {
          "output_type": "stream",
          "name": "stdout",
          "text": [
            "[50, 40, 30, 20, 10]\n"
          ]
        }
      ]
    },
    {
      "cell_type": "markdown",
      "source": [
        "Q11)"
      ],
      "metadata": {
        "id": "mtedVsSswD1O"
      }
    },
    {
      "cell_type": "code",
      "source": [
        "t = (100, 200, 300)\n",
        "print(t)\n"
      ],
      "metadata": {
        "colab": {
          "base_uri": "https://localhost:8080/"
        },
        "id": "XnOKpgsHwFE6",
        "outputId": "a662580b-42a5-4e60-ef21-ff120b1ab9be"
      },
      "execution_count": 19,
      "outputs": [
        {
          "output_type": "stream",
          "name": "stdout",
          "text": [
            "(100, 200, 300)\n"
          ]
        }
      ]
    },
    {
      "cell_type": "markdown",
      "source": [
        "Q12)"
      ],
      "metadata": {
        "id": "tJV6X9kgwVrZ"
      }
    },
    {
      "cell_type": "code",
      "source": [
        "colors = (\"red\", \"green\", \"blue\", \"yellow\")\n",
        "print(colors[2])"
      ],
      "metadata": {
        "colab": {
          "base_uri": "https://localhost:8080/"
        },
        "id": "1EqXGSIswW7p",
        "outputId": "d75fc575-c4da-44ce-f216-f655d0667733"
      },
      "execution_count": 21,
      "outputs": [
        {
          "output_type": "stream",
          "name": "stdout",
          "text": [
            "blue\n"
          ]
        }
      ]
    },
    {
      "cell_type": "markdown",
      "source": [
        "Q13)"
      ],
      "metadata": {
        "id": "Sxudnxo_wpFV"
      }
    },
    {
      "cell_type": "code",
      "source": [
        "numbers = (10, 20, 5, 15)\n",
        "min_number = min(numbers)\n",
        "print(min_number)\n"
      ],
      "metadata": {
        "colab": {
          "base_uri": "https://localhost:8080/"
        },
        "id": "TJac2xsXwqlK",
        "outputId": "6afaf796-2fbe-4319-c753-69eb0e69933c"
      },
      "execution_count": 26,
      "outputs": [
        {
          "output_type": "stream",
          "name": "stdout",
          "text": [
            "5\n"
          ]
        }
      ]
    },
    {
      "cell_type": "markdown",
      "source": [
        "Q14)"
      ],
      "metadata": {
        "id": "6rxTVwEpxLAF"
      }
    },
    {
      "cell_type": "code",
      "source": [
        "pets = ('dog', 'cat', 'rabbit')\n",
        "index_value = pets.index('cat')\n",
        "print(index_value)"
      ],
      "metadata": {
        "colab": {
          "base_uri": "https://localhost:8080/"
        },
        "id": "OnwiLkIyxMas",
        "outputId": "49254f7f-918e-4c4a-d16b-f7f5c595c1d8"
      },
      "execution_count": 27,
      "outputs": [
        {
          "output_type": "stream",
          "name": "stdout",
          "text": [
            "1\n"
          ]
        }
      ]
    },
    {
      "cell_type": "markdown",
      "source": [
        "Q15)"
      ],
      "metadata": {
        "id": "9O0iicxrxkGQ"
      }
    },
    {
      "cell_type": "code",
      "source": [
        "fruits = (\"apple\", \"banana\", \"mango\")\n",
        "if \"kiwi\" in fruits:\n",
        "  print(\"Kiwi is in fruits\")\n",
        "else:\n",
        "  print(\"Kiwi is NOT in fruits\")"
      ],
      "metadata": {
        "colab": {
          "base_uri": "https://localhost:8080/"
        },
        "id": "yaoaC3GDxlJc",
        "outputId": "fbc5a072-4b17-4439-a150-ab09d505b670"
      },
      "execution_count": 28,
      "outputs": [
        {
          "output_type": "stream",
          "name": "stdout",
          "text": [
            "Kiwi is NOT in fruits\n"
          ]
        }
      ]
    },
    {
      "cell_type": "markdown",
      "source": [
        "Q16)"
      ],
      "metadata": {
        "id": "Pj8BQzKvyexp"
      }
    },
    {
      "cell_type": "code",
      "source": [
        "al = {\"a\", \"b\", \"c\"}\n",
        "print(al)"
      ],
      "metadata": {
        "colab": {
          "base_uri": "https://localhost:8080/"
        },
        "id": "e1oG1sZZyf--",
        "outputId": "02be92b4-ea3d-407d-caff-af121f819a44"
      },
      "execution_count": 29,
      "outputs": [
        {
          "output_type": "stream",
          "name": "stdout",
          "text": [
            "{'a', 'c', 'b'}\n"
          ]
        }
      ]
    },
    {
      "cell_type": "markdown",
      "source": [
        "Q17)"
      ],
      "metadata": {
        "id": "F8tCzqpmyuki"
      }
    },
    {
      "cell_type": "code",
      "source": [
        "my_set = {1, 2, 3, 4, 5}\n",
        "my_set.clear()\n",
        "print(my_set)\n"
      ],
      "metadata": {
        "colab": {
          "base_uri": "https://localhost:8080/"
        },
        "id": "8rpEXp7vywHW",
        "outputId": "c6bf2e90-76c0-4b8f-9454-5032e3496e44"
      },
      "execution_count": 31,
      "outputs": [
        {
          "output_type": "stream",
          "name": "stdout",
          "text": [
            "set()\n"
          ]
        }
      ]
    },
    {
      "cell_type": "markdown",
      "source": [
        "Q18)"
      ],
      "metadata": {
        "id": "KRKRpRa5zBLi"
      }
    },
    {
      "cell_type": "code",
      "source": [
        "number = {1, 2, 3, 4}\n",
        "number.remove(4)\n",
        "print(number)"
      ],
      "metadata": {
        "colab": {
          "base_uri": "https://localhost:8080/"
        },
        "id": "C5zBvfhlzCWy",
        "outputId": "f31e8c6d-c0d8-4e42-b42c-8063e47275ca"
      },
      "execution_count": 34,
      "outputs": [
        {
          "output_type": "stream",
          "name": "stdout",
          "text": [
            "{1, 2, 3}\n"
          ]
        }
      ]
    },
    {
      "cell_type": "markdown",
      "source": [
        "Q19)"
      ],
      "metadata": {
        "id": "EzZYegsCzbjg"
      }
    },
    {
      "cell_type": "code",
      "source": [
        "set1 = {1, 2, 3}\n",
        "set2 = {3, 4, 5}\n",
        "res = set1.union(set2)\n",
        "print(res)"
      ],
      "metadata": {
        "colab": {
          "base_uri": "https://localhost:8080/"
        },
        "id": "Zmh-G7Lzzq_v",
        "outputId": "60331fbe-9116-45f9-ed36-96f8be7395a1"
      },
      "execution_count": 35,
      "outputs": [
        {
          "output_type": "stream",
          "name": "stdout",
          "text": [
            "{1, 2, 3, 4, 5}\n"
          ]
        }
      ]
    },
    {
      "cell_type": "markdown",
      "source": [
        "Q20)"
      ],
      "metadata": {
        "id": "vBnsI5Rgz5L1"
      }
    },
    {
      "cell_type": "code",
      "source": [
        "set1 = {1, 2, 3}\n",
        "set2 = {2, 3, 4}\n",
        "res = set1.intersection(set2)\n",
        "print(res)"
      ],
      "metadata": {
        "colab": {
          "base_uri": "https://localhost:8080/"
        },
        "id": "0poV_Mziz6Rl",
        "outputId": "2e2a1864-c722-4251-e10a-a788ec239652"
      },
      "execution_count": 37,
      "outputs": [
        {
          "output_type": "stream",
          "name": "stdout",
          "text": [
            "{2, 3}\n"
          ]
        }
      ]
    },
    {
      "cell_type": "markdown",
      "source": [
        "Q21)"
      ],
      "metadata": {
        "id": "A_w80bi20Ngq"
      }
    },
    {
      "cell_type": "code",
      "source": [
        "my_dict = {\n",
        "    \"name\" : \"Sai\",\n",
        "    \"age\" : 13,\n",
        "    \"city\" : \"Redhakhol\"\n",
        "}\n",
        "print(my_dict)"
      ],
      "metadata": {
        "colab": {
          "base_uri": "https://localhost:8080/"
        },
        "id": "Z7ITDJbP0Odj",
        "outputId": "dff3a647-ad07-4969-a2f3-d9b54f2843a5"
      },
      "execution_count": 38,
      "outputs": [
        {
          "output_type": "stream",
          "name": "stdout",
          "text": [
            "{'name': 'Sai', 'age': 13, 'city': 'Redhakhol'}\n"
          ]
        }
      ]
    },
    {
      "cell_type": "markdown",
      "source": [
        "Q22)"
      ],
      "metadata": {
        "id": "FVdyq2C_0drv"
      }
    },
    {
      "cell_type": "code",
      "source": [
        "info = {\n",
        "    \"name\" : \"John\",\n",
        "    \"age\" : 25\n",
        "}\n",
        "info[\"city\"] = \"USA\"\n",
        "print(info)"
      ],
      "metadata": {
        "colab": {
          "base_uri": "https://localhost:8080/"
        },
        "id": "uvEtyTu00pUP",
        "outputId": "4d85b2d8-5a8a-4df2-e937-d88ab81259bd"
      },
      "execution_count": 39,
      "outputs": [
        {
          "output_type": "stream",
          "name": "stdout",
          "text": [
            "{'name': 'John', 'age': 25, 'city': 'USA'}\n"
          ]
        }
      ]
    },
    {
      "cell_type": "markdown",
      "source": [
        "Q23)"
      ],
      "metadata": {
        "id": "vdVECeuY04oh"
      }
    },
    {
      "cell_type": "code",
      "source": [
        "inf = {\n",
        "    \"name\" : \"Alice\",\n",
        "    \"age\" : 30\n",
        "}\n",
        "print(inf[\"name\"])"
      ],
      "metadata": {
        "colab": {
          "base_uri": "https://localhost:8080/"
        },
        "id": "YAjBdkCq05rq",
        "outputId": "f3b70a6d-0cf4-4f22-e0c1-783568b014f0"
      },
      "execution_count": 40,
      "outputs": [
        {
          "output_type": "stream",
          "name": "stdout",
          "text": [
            "Alice\n"
          ]
        }
      ]
    },
    {
      "cell_type": "markdown",
      "source": [
        "Q24)"
      ],
      "metadata": {
        "id": "1WBBfrZ51Gua"
      }
    },
    {
      "cell_type": "code",
      "source": [
        "data = {\n",
        "    'name': 'Bob',\n",
        "    'age': 22,\n",
        "    'city': 'New York'\n",
        "}\n",
        "data.pop('age')\n",
        "print(data)"
      ],
      "metadata": {
        "colab": {
          "base_uri": "https://localhost:8080/"
        },
        "id": "3qololwQ1H8J",
        "outputId": "4c2f0597-beed-4179-91a4-a2cc421f2e0c"
      },
      "execution_count": 41,
      "outputs": [
        {
          "output_type": "stream",
          "name": "stdout",
          "text": [
            "{'name': 'Bob', 'city': 'New York'}\n"
          ]
        }
      ]
    },
    {
      "cell_type": "markdown",
      "source": [
        "Q25)"
      ],
      "metadata": {
        "id": "Yd2R382k1auZ"
      }
    },
    {
      "cell_type": "code",
      "source": [
        "my_dict = {\n",
        "    'name': 'Alice',\n",
        "    'city': 'Paris'\n",
        "}\n",
        "\n",
        "if \"city\" in my_dict:\n",
        "    print(\"Key 'city' exists in the dictionary.\")\n",
        "else:\n",
        "    print(\"Key 'city' does not exist in the dictionary.\")\n"
      ],
      "metadata": {
        "colab": {
          "base_uri": "https://localhost:8080/"
        },
        "id": "kZiZnLnA1cGc",
        "outputId": "18869641-d4a7-44d7-8b16-e651c7794215"
      },
      "execution_count": 45,
      "outputs": [
        {
          "output_type": "stream",
          "name": "stdout",
          "text": [
            "Key 'city' exists in the dictionary.\n"
          ]
        }
      ]
    },
    {
      "cell_type": "markdown",
      "source": [
        "Q26)"
      ],
      "metadata": {
        "id": "QW89KSc92bEv"
      }
    },
    {
      "cell_type": "code",
      "source": [
        "my_list = [1, 2, 3, 4, 5]\n",
        "\n",
        "my_tuple = (\"apple\", \"banana\", \"mango\")\n",
        "\n",
        "my_dict = {\"name\": \"Sasmita\", \"age\": 46, \"city\": \"Redhakhol\"}\n",
        "\n",
        "print(\"List:\", my_list)\n",
        "print(\"Tuple:\", my_tuple)\n",
        "print(\"Dictionary:\", my_dict)\n"
      ],
      "metadata": {
        "colab": {
          "base_uri": "https://localhost:8080/"
        },
        "id": "AiKE8zQK2cQN",
        "outputId": "96af91d6-8cc1-4048-d96b-da7b63660099"
      },
      "execution_count": 46,
      "outputs": [
        {
          "output_type": "stream",
          "name": "stdout",
          "text": [
            "List: [1, 2, 3, 4, 5]\n",
            "Tuple: ('apple', 'banana', 'mango')\n",
            "Dictionary: {'name': 'Sasmita', 'age': 46, 'city': 'Redhakhol'}\n"
          ]
        }
      ]
    },
    {
      "cell_type": "markdown",
      "source": [
        "Q27)"
      ],
      "metadata": {
        "id": "gXlu7WJw2vJj"
      }
    },
    {
      "cell_type": "code",
      "source": [
        "import random\n",
        "\n",
        "random_numbers = random.sample(range(1, 101), 5)\n",
        "\n",
        "random_numbers.sort()\n",
        "print(random_numbers)\n"
      ],
      "metadata": {
        "colab": {
          "base_uri": "https://localhost:8080/"
        },
        "id": "r8ks_JA52zY6",
        "outputId": "2c215a8d-5fb0-4a7e-d3e0-31daa1dc3f17"
      },
      "execution_count": 47,
      "outputs": [
        {
          "output_type": "stream",
          "name": "stdout",
          "text": [
            "[32, 42, 64, 78, 86]\n"
          ]
        }
      ]
    },
    {
      "cell_type": "markdown",
      "source": [
        "Q28)"
      ],
      "metadata": {
        "id": "nrxWpVqc3FP_"
      }
    },
    {
      "cell_type": "code",
      "source": [
        "list1 = [\"Alok\", \"Sasmita\", \"Saloni\", \"Sai\"]\n",
        "print(list1[2])"
      ],
      "metadata": {
        "colab": {
          "base_uri": "https://localhost:8080/"
        },
        "id": "ALzwtb4c3GZ-",
        "outputId": "ce61bbb5-67d2-4d05-96c7-1ae8a5174e0c"
      },
      "execution_count": 48,
      "outputs": [
        {
          "output_type": "stream",
          "name": "stdout",
          "text": [
            "Saloni\n"
          ]
        }
      ]
    },
    {
      "cell_type": "markdown",
      "source": [
        "Q29)"
      ],
      "metadata": {
        "id": "r4uuiJ-A3URD"
      }
    },
    {
      "cell_type": "code",
      "source": [
        "dict1 = {\"name\": \"Sai\", \"age\": 13}\n",
        "dict2 = {\"class\": 9, \"city\": \"Redhakhol\"}\n",
        "\n",
        "dict1.update(dict2)\n",
        "print(dict1)\n"
      ],
      "metadata": {
        "colab": {
          "base_uri": "https://localhost:8080/"
        },
        "id": "CVqoFTIl3VQ_",
        "outputId": "621be412-b395-4273-aadc-8df077d5f2b1"
      },
      "execution_count": 50,
      "outputs": [
        {
          "output_type": "stream",
          "name": "stdout",
          "text": [
            "{'name': 'Sai', 'age': 13, 'class': 9, 'city': 'Redhakhol'}\n"
          ]
        }
      ]
    },
    {
      "cell_type": "markdown",
      "source": [
        "Q30"
      ],
      "metadata": {
        "id": "_3N2Oquf3feH"
      }
    },
    {
      "cell_type": "code",
      "source": [
        "my_list = [\"apple\", \"banana\", \"mango\", \"litchi\", \"orange\"]\n",
        "\n",
        "my_set = set(my_list)\n",
        "\n",
        "print(my_set)\n"
      ],
      "metadata": {
        "colab": {
          "base_uri": "https://localhost:8080/"
        },
        "id": "tc3CDzfW3tgc",
        "outputId": "f2d0de9b-b3bf-4799-c77b-e94f9867b2fe"
      },
      "execution_count": 51,
      "outputs": [
        {
          "output_type": "stream",
          "name": "stdout",
          "text": [
            "{'mango', 'banana', 'litchi', 'apple', 'orange'}\n"
          ]
        }
      ]
    }
  ]
}